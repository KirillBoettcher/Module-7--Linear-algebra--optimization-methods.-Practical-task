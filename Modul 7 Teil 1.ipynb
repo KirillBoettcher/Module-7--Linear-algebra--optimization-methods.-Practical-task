{
 "cells": [
  {
   "cell_type": "markdown",
   "id": "0d5eb8eb-8da2-4647-b15b-2cf92d97cd20",
   "metadata": {},
   "source": [
    "Уровень 1"
   ]
  },
  {
   "cell_type": "code",
   "execution_count": 1,
   "id": "701cc9f2-01d1-45dd-9ea2-f8fead5a4e8d",
   "metadata": {
    "tags": []
   },
   "outputs": [
    {
     "data": {
      "text/latex": [
       "$\\displaystyle - \\frac{\\cos{\\left(\\frac{1}{x} \\right)}}{x^{2}}$"
      ],
      "text/plain": [
       "-cos(1/x)/x**2"
      ]
     },
     "execution_count": 1,
     "metadata": {},
     "output_type": "execute_result"
    }
   ],
   "source": [
    "import numpy as np\n",
    "import math\n",
    "import sympy as sym\n",
    "#Chain Rule\n",
    "x = sym.Symbol('x')\n",
    "f = sym.sin(1/x)\n",
    "derivative_f = f.diff(x)\n",
    "derivative_f"
   ]
  },
  {
   "cell_type": "code",
   "execution_count": 5,
   "id": "460b7b11-7dab-4f71-a744-6b567c5972f6",
   "metadata": {
    "tags": []
   },
   "outputs": [
    {
     "name": "stdout",
     "output_type": "stream",
     "text": [
      "-0.039202663113649665\n"
     ]
    }
   ],
   "source": [
    "def grad_f(x):\n",
    "    return - 1 /(x*x) * math.cos(1/x)\n",
    "\n",
    "print( grad_f(5) )"
   ]
  },
  {
   "cell_type": "code",
   "execution_count": 6,
   "id": "fd9e2df4-45a8-4feb-8253-437d92bc4915",
   "metadata": {
    "tags": []
   },
   "outputs": [
    {
     "data": {
      "text/latex": [
       "$\\displaystyle - \\frac{e^{- \\frac{x}{2}}}{2}$"
      ],
      "text/plain": [
       "-exp(-x/2)/2"
      ]
     },
     "execution_count": 6,
     "metadata": {},
     "output_type": "execute_result"
    }
   ],
   "source": [
    "x = sym.Symbol('x')\n",
    "f = sym.exp(-x/2) \n",
    "derivative_f = f.diff(x)\n",
    "derivative_f"
   ]
  },
  {
   "cell_type": "code",
   "execution_count": 7,
   "id": "0304ef53-afeb-4f41-9712-e2cfe765ca23",
   "metadata": {
    "tags": []
   },
   "outputs": [
    {
     "name": "stdout",
     "output_type": "stream",
     "text": [
      "-0.18393972058572117\n"
     ]
    }
   ],
   "source": [
    "def grad_f(x):\n",
    "    return - 0.5 * math.exp(-x/2)\n",
    "\n",
    "print( grad_f(2) )"
   ]
  },
  {
   "cell_type": "code",
   "execution_count": 8,
   "id": "1cfc542b-9ac7-43bb-87bc-1bda20a36da5",
   "metadata": {
    "tags": []
   },
   "outputs": [
    {
     "data": {
      "text/latex": [
       "$\\displaystyle 2 x + 2 y$"
      ],
      "text/plain": [
       "2*x + 2*y"
      ]
     },
     "execution_count": 8,
     "metadata": {},
     "output_type": "execute_result"
    }
   ],
   "source": [
    "import sympy as sym\n",
    " \n",
    "#Derivatives of multivariable function\n",
    " \n",
    "x , y = sym.symbols('x y')\n",
    "f = (x+y)**(2)-3*y+5\n",
    " \n",
    "#Differentiating partially w.r.t x\n",
    "derivative_f = f.diff(x)\n",
    "derivative_f\n"
   ]
  },
  {
   "cell_type": "code",
   "execution_count": 9,
   "id": "0c06eeff-4c05-463e-ab6c-a7b0360e8225",
   "metadata": {
    "tags": []
   },
   "outputs": [
    {
     "data": {
      "text/latex": [
       "$\\displaystyle 2 x + 2 y - 3$"
      ],
      "text/plain": [
       "2*x + 2*y - 3"
      ]
     },
     "execution_count": 9,
     "metadata": {},
     "output_type": "execute_result"
    }
   ],
   "source": [
    "derivative_f = f.diff(y)\n",
    "derivative_f"
   ]
  },
  {
   "cell_type": "code",
   "execution_count": 10,
   "id": "6cb9f735-7bfd-4020-ae64-50cc0d79a62a",
   "metadata": {
    "tags": []
   },
   "outputs": [
    {
     "name": "stdout",
     "output_type": "stream",
     "text": [
      "[24 21]\n"
     ]
    }
   ],
   "source": [
    "def f(x, y):\n",
    "    return x * x + y * y - 2 * x + 3 * y - 25\n",
    "\n",
    "def grad_f(x, y):\n",
    "    grad_x = 2 * x + 2 * y\n",
    "    grad_y = 2 * x + 2 * y - 3\n",
    "    return np.array([grad_x, grad_y])\n",
    "print( grad_f(2, 10) )"
   ]
  },
  {
   "cell_type": "code",
   "execution_count": null,
   "id": "61951f7f-470f-4d63-bf14-63eba55525b8",
   "metadata": {},
   "outputs": [],
   "source": []
  },
  {
   "cell_type": "code",
   "execution_count": 11,
   "id": "b167bffa-f6c8-43ff-8116-3e0ea2de1e2b",
   "metadata": {
    "tags": []
   },
   "outputs": [
    {
     "data": {
      "text/latex": [
       "$\\displaystyle 2 x + 2 y - 2 z$"
      ],
      "text/plain": [
       "2*x + 2*y - 2*z"
      ]
     },
     "execution_count": 11,
     "metadata": {},
     "output_type": "execute_result"
    }
   ],
   "source": [
    "import sympy as sym\n",
    " \n",
    "#Derivatives of multivariable function\n",
    " \n",
    "x , y , z = sym.symbols('x y z')\n",
    "f = (x+y-z)**(2)-3*(y+z)**(2)\n",
    " \n",
    "#Differentiating partially w.r.t x\n",
    "derivative_f = f.diff(x)\n",
    "derivative_f"
   ]
  },
  {
   "cell_type": "code",
   "execution_count": 12,
   "id": "ee30faab-47cb-4c0b-8cd0-a7e04d612909",
   "metadata": {
    "tags": []
   },
   "outputs": [
    {
     "data": {
      "text/latex": [
       "$\\displaystyle 2 x - 4 y - 8 z$"
      ],
      "text/plain": [
       "2*x - 4*y - 8*z"
      ]
     },
     "execution_count": 12,
     "metadata": {},
     "output_type": "execute_result"
    }
   ],
   "source": [
    "derivative_f = f.diff(y)\n",
    "derivative_f"
   ]
  },
  {
   "cell_type": "code",
   "execution_count": 13,
   "id": "8b41f4dc-4aee-48fa-9a1e-c440b0442258",
   "metadata": {
    "tags": []
   },
   "outputs": [
    {
     "data": {
      "text/latex": [
       "$\\displaystyle - 2 x - 8 y - 4 z$"
      ],
      "text/plain": [
       "-2*x - 8*y - 4*z"
      ]
     },
     "execution_count": 13,
     "metadata": {},
     "output_type": "execute_result"
    }
   ],
   "source": [
    "derivative_f = f.diff(z)\n",
    "derivative_f"
   ]
  },
  {
   "cell_type": "code",
   "execution_count": 4,
   "id": "6a6322d1-3181-4d6d-b316-c92cb5f9754d",
   "metadata": {
    "tags": []
   },
   "outputs": [
    {
     "name": "stdout",
     "output_type": "stream",
     "text": [
      "[-12  18  42]\n"
     ]
    }
   ],
   "source": [
    "def grad_f(x, y, z):\n",
    "    grad_x = 2 * x + 2 * y - 2 * z\n",
    "    grad_y = 2 * x - 4 * y - 8 * z           \n",
    "    grad_z = -2 * x - 8 * y -4 * z\n",
    "    return np.array([grad_x, grad_y,  grad_z])\n",
    "\n",
    "print( grad_f(-1, -5, 0) )"
   ]
  },
  {
   "cell_type": "code",
   "execution_count": null,
   "id": "604539cd-1124-4daa-a193-d9f3898978d8",
   "metadata": {},
   "outputs": [],
   "source": []
  }
 ],
 "metadata": {
  "kernelspec": {
   "display_name": "Python 3 (ipykernel)",
   "language": "python",
   "name": "python3"
  },
  "language_info": {
   "codemirror_mode": {
    "name": "ipython",
    "version": 3
   },
   "file_extension": ".py",
   "mimetype": "text/x-python",
   "name": "python",
   "nbconvert_exporter": "python",
   "pygments_lexer": "ipython3",
   "version": "3.11.4"
  }
 },
 "nbformat": 4,
 "nbformat_minor": 5
}
